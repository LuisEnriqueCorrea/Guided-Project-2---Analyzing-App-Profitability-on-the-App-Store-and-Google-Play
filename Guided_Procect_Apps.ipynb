{
 "cells": [
  {
   "cell_type": "markdown",
   "metadata": {},
   "source": [
    "# Analisis de rentabilidad de Apps Moviles \n",
    "\n",
    "Este proyecto analisaremos que tipo de aplicaciones tienen mas descargas basados en que la restabilidad viene dada de la cantidad de anuncios que se muestran en las apliaciones. \n",
    "\n",
    "El objetivo sera identificar las categorias o tipo de aplicaciones que tienen mayor numero de descargas y/o usuarios para tener una visión de las proximas aplicaciones a desarrollar."
   ]
  },
  {
   "cell_type": "code",
   "execution_count": 1,
   "metadata": {},
   "outputs": [],
   "source": [
    "import csv\n",
    "def open_data(csv_file, encoding='utf8'):\n",
    "    opened_file = open(csv_file)\n",
    "    read_file = csv.reader(opened_file)\n",
    "    dataset = list(read_file)\n",
    "    return dataset"
   ]
  },
  {
   "cell_type": "markdown",
   "metadata": {},
   "source": [
    "## Leer y almacenar los conjuntos de datos\n",
    "\n",
    "A continuación procedemos a leer ambos conjuntos de datos, usando la función \"open_data\". \n",
    "\n",
    "AppleStore.csv: Un conjunto de datos que contiene datos sobre aproximadamente 7000 aplicaciones de iOS de la App Store; los datos se recopilaron en julio de 2017. \n",
    "\n",
    "googleplaystore.csv: Un conjunto de datos que contiene información sobre aproximadamente 10 000 aplicaciones de Android de Google Play; los datos se recopilaron en agosto de 2018. "
   ]
  },
  {
   "cell_type": "code",
   "execution_count": 2,
   "metadata": {},
   "outputs": [],
   "source": [
    "apple_store = open_data(\"AppleStore.csv\")\n",
    "google_play_store = open_data(\"googleplaystore.csv\")"
   ]
  },
  {
   "cell_type": "markdown",
   "metadata": {},
   "source": [
    "## Explorar los datos\n",
    "\n",
    "- Imprimir las primeras 5 filas \n",
    "- Conocer el numero total de filas \n",
    "- Conocer el numero total de columnas"
   ]
  },
  {
   "cell_type": "code",
   "execution_count": 3,
   "metadata": {},
   "outputs": [],
   "source": [
    "def explore_data(dataset, end, start = 1):\n",
    "    header = dataset[0]\n",
    "    for row in dataset[1:end]:\n",
    "        print(row)\n",
    "        print(\"\\n\")\n",
    "    print(\"Columnas: \" + str(header))\n",
    "    print(\"\\n\")\n",
    "    print(\"Numero de columnas: \" + str(len(header)) + (\"\\n\") + \"Numero de filas: \" + str(len(dataset[1:])))"
   ]
  },
  {
   "cell_type": "code",
   "execution_count": 4,
   "metadata": {},
   "outputs": [
    {
     "name": "stdout",
     "output_type": "stream",
     "text": [
      "['284882215', 'Facebook', '389879808', 'USD', '0.0', '2974676', '212', '3.5', '3.5', '95.0', '4+', 'Social Networking', '37', '1', '29', '1']\n",
      "\n",
      "\n",
      "['389801252', 'Instagram', '113954816', 'USD', '0.0', '2161558', '1289', '4.5', '4.0', '10.23', '12+', 'Photo & Video', '37', '0', '29', '1']\n",
      "\n",
      "\n",
      "['529479190', 'Clash of Clans', '116476928', 'USD', '0.0', '2130805', '579', '4.5', '4.5', '9.24.12', '9+', 'Games', '38', '5', '18', '1']\n",
      "\n",
      "\n",
      "['420009108', 'Temple Run', '65921024', 'USD', '0.0', '1724546', '3842', '4.5', '4.0', '1.6.2', '9+', 'Games', '40', '5', '1', '1']\n",
      "\n",
      "\n",
      "Columnas: ['id', 'track_name', 'size_bytes', 'currency', 'price', 'rating_count_tot', 'rating_count_ver', 'user_rating', 'user_rating_ver', 'ver', 'cont_rating', 'prime_genre', 'sup_devices.num', 'ipadSc_urls.num', 'lang.num', 'vpp_lic']\n",
      "\n",
      "\n",
      "Numero de columnas: 16\n",
      "Numero de filas: 7197\n"
     ]
    }
   ],
   "source": [
    "explore_apple_store = explore_data(apple_store, 5)"
   ]
  },
  {
   "cell_type": "code",
   "execution_count": 5,
   "metadata": {},
   "outputs": [
    {
     "name": "stdout",
     "output_type": "stream",
     "text": [
      "['Photo Editor & Candy Camera & Grid & ScrapBook', 'ART_AND_DESIGN', '4.1', '159', '19M', '10,000+', 'Free', '0', 'Everyone', 'Art & Design', 'January 7, 2018', '1.0.0', '4.0.3 and up']\n",
      "\n",
      "\n",
      "['Coloring book moana', 'ART_AND_DESIGN', '3.9', '967', '14M', '500,000+', 'Free', '0', 'Everyone', 'Art & Design;Pretend Play', 'January 15, 2018', '2.0.0', '4.0.3 and up']\n",
      "\n",
      "\n",
      "['U Launcher Lite – FREE Live Cool Themes, Hide Apps', 'ART_AND_DESIGN', '4.7', '87510', '8.7M', '5,000,000+', 'Free', '0', 'Everyone', 'Art & Design', 'August 1, 2018', '1.2.4', '4.0.3 and up']\n",
      "\n",
      "\n",
      "['Sketch - Draw & Paint', 'ART_AND_DESIGN', '4.5', '215644', '25M', '50,000,000+', 'Free', '0', 'Teen', 'Art & Design', 'June 8, 2018', 'Varies with device', '4.2 and up']\n",
      "\n",
      "\n",
      "Columnas: ['App', 'Category', 'Rating', 'Reviews', 'Size', 'Installs', 'Type', 'Price', 'Content Rating', 'Genres', 'Last Updated', 'Current Ver', 'Android Ver']\n",
      "\n",
      "\n",
      "Numero de columnas: 13\n",
      "Numero de filas: 10841\n"
     ]
    }
   ],
   "source": [
    "explore_google_play_store = explore_data(google_play_store, 5)"
   ]
  },
  {
   "cell_type": "markdown",
   "metadata": {},
   "source": [
    "## Columnas que usaremos para el objetivo del proyecto: \n",
    "\n",
    "### Para la AppleStore.csv\n",
    "- prime_genre: género principal\n",
    "- price: Precio\n",
    "- rating_count_tot: recuentos de calificaciones de usuarios (para todas las versiones)\n",
    "\n",
    "### Para la googleplaystore.csv\n",
    "- type: Pagado o Gratis\n",
    "- category: Categoría a la que pertenece la aplicación\n",
    "- reviews: Number of user reviews for the app (as when scraped)"
   ]
  },
  {
   "cell_type": "markdown",
   "metadata": {},
   "source": [
    "## Econtrar filas con datos faltantes en el conjunto de datos\n",
    "- Comprobar si hay filas con datos faltantes\n",
    "- Eliminar las filas con datos faltantes"
   ]
  },
  {
   "cell_type": "code",
   "execution_count": 6,
   "metadata": {},
   "outputs": [],
   "source": [
    "def explore_error_data(dataset):\n",
    "    header = dataset[0]\n",
    "    for row in dataset[1:]:\n",
    "        if len(row) != len(header):\n",
    "            return dataset.index(row)"
   ]
  },
  {
   "cell_type": "code",
   "execution_count": 7,
   "metadata": {},
   "outputs": [],
   "source": [
    "error_row_google = explore_error_data(google_play_store)\n",
    "del google_play_store[error_row_google]"
   ]
  },
  {
   "cell_type": "code",
   "execution_count": 8,
   "metadata": {},
   "outputs": [
    {
     "name": "stdout",
     "output_type": "stream",
     "text": [
      "None\n"
     ]
    }
   ],
   "source": [
    "error_row_apple = explore_error_data(apple_store)\n",
    "print(error_row_apple)"
   ]
  },
  {
   "cell_type": "markdown",
   "metadata": {},
   "source": [
    "## Separar las applicaciones gratuitas en ambos conjuntos\n",
    "- Identificar las apps gratuitas\n",
    "- Crear un nuevo conjunto con solo apps gratuitas"
   ]
  },
  {
   "cell_type": "code",
   "execution_count": 9,
   "metadata": {},
   "outputs": [],
   "source": [
    "def extract_free_apps(dataset, index_col):\n",
    "    free_apps = []\n",
    "    for row in dataset[1:]:\n",
    "        if row[index_col] == \"Free\" or row[index_col] == \"0.0\":\n",
    "            free_apps.append(row)\n",
    "    return free_apps"
   ]
  },
  {
   "cell_type": "code",
   "execution_count": 10,
   "metadata": {},
   "outputs": [
    {
     "name": "stdout",
     "output_type": "stream",
     "text": [
      "10039\n"
     ]
    }
   ],
   "source": [
    "free_apps_google = extract_free_apps(google_play_store, 6)\n",
    "print(len(free_apps_google))"
   ]
  },
  {
   "cell_type": "code",
   "execution_count": 11,
   "metadata": {},
   "outputs": [],
   "source": [
    "free_apps_apple = extract_free_apps(apple_store, 4)"
   ]
  },
  {
   "cell_type": "markdown",
   "metadata": {},
   "source": [
    "## Identificar filas duplicadas y almacenar en una lista separada\n",
    "\n",
    "- Detectar apps duplicadas\n",
    "- Almacenar los nombres de las apps duplicadas en una lista"
   ]
  },
  {
   "cell_type": "code",
   "execution_count": 12,
   "metadata": {},
   "outputs": [],
   "source": [
    "def detect_duplicates_row(dataset, index_col):\n",
    "    duplicados = []\n",
    "    uniques = []\n",
    "    for row in dataset[1:]:\n",
    "        if row[index_col] in uniques:\n",
    "            duplicados.append(row[index_col])\n",
    "        else:\n",
    "            uniques.append(row[index_col])\n",
    "    return duplicados\n",
    "        "
   ]
  },
  {
   "cell_type": "code",
   "execution_count": 13,
   "metadata": {},
   "outputs": [
    {
     "name": "stdout",
     "output_type": "stream",
     "text": [
      "1135\n"
     ]
    }
   ],
   "source": [
    "duplicados_google = detect_duplicates_row(free_apps_google, 0)\n",
    "print(len(duplicados_google))"
   ]
  },
  {
   "cell_type": "code",
   "execution_count": 14,
   "metadata": {},
   "outputs": [
    {
     "name": "stdout",
     "output_type": "stream",
     "text": [
      "2\n"
     ]
    }
   ],
   "source": [
    "duplicados_apple = detect_duplicates_row(free_apps_apple, 1)\n",
    "print(len(duplicados_apple))"
   ]
  },
  {
   "cell_type": "markdown",
   "metadata": {},
   "source": [
    "## Eliminar filas duplicadas\n",
    "\n",
    "Limpiaremos los duplicados y dejaremos la versión mas reciente de la app. \n",
    "\n",
    "Para google:\n",
    "  - Dejaremos la fila donde \"Reviews\" sea mayor\n",
    "Mientras mas reviews tiene la app mas reciente sera la versión    \n",
    "\n",
    "\n",
    "Para Apple: \n",
    "  - Dejaremos la fila donde \"rating_count_tot\" sea mayor\n",
    "   \n"
   ]
  },
  {
   "cell_type": "code",
   "execution_count": 15,
   "metadata": {},
   "outputs": [],
   "source": [
    "def create_pares(dataset, index_name, index_reviews_or_rating):\n",
    "    pares_duplicados = {}\n",
    "    rows_uniques = []\n",
    "    for row in dataset[1:]:\n",
    "        reviws_or_rating = int(row[index_reviews_or_rating])\n",
    "        name = row[index_name]\n",
    "        if name not in pares_duplicados:\n",
    "                pares_duplicados[name] = reviws_or_rating\n",
    "        if name in pares_duplicados and reviws_or_rating >= pares_duplicados[name]:\n",
    "                pares_duplicados[name] = reviws_or_rating\n",
    "    \n",
    "    return pares_duplicados\n",
    "                \n",
    "            \n",
    "            "
   ]
  },
  {
   "cell_type": "code",
   "execution_count": 16,
   "metadata": {},
   "outputs": [],
   "source": [
    "def delete_row(dataset, pares_duplicados):\n",
    "    dataset = dataset\n",
    "    new_data = []\n",
    "    for key, value in pares_duplicados.items():\n",
    "            name = key \n",
    "            reviews = str(value)\n",
    "            for row in dataset[1:]:\n",
    "                if name in row and reviews not in row:\n",
    "                    index_delete = dataset.index(row)\n",
    "                    del dataset[index_delete]\n",
    "    return dataset"
   ]
  },
  {
   "cell_type": "code",
   "execution_count": 17,
   "metadata": {},
   "outputs": [
    {
     "name": "stdout",
     "output_type": "stream",
     "text": [
      "9142\n"
     ]
    }
   ],
   "source": [
    "pares_google = create_pares(free_apps_google, 0,3)\n",
    "google_clean = delete_row(free_apps_google, pares_google)\n",
    "print(len(google_clean))"
   ]
  },
  {
   "cell_type": "code",
   "execution_count": 18,
   "metadata": {},
   "outputs": [
    {
     "name": "stdout",
     "output_type": "stream",
     "text": [
      "0\n"
     ]
    }
   ],
   "source": [
    "pares_apple = create_pares(free_apps_apple, 1, 5)\n",
    "apple_clean = delete_row(free_apps_apple, pares_apple)\n",
    "print(len(detect_duplicates_row(free_apps_apple, 1)))"
   ]
  },
  {
   "cell_type": "markdown",
   "metadata": {},
   "source": [
    "## Eliminar apps que no esten en Inglés\n",
    "\n",
    "A continuación vamos a eliminar todas las filas donde el \"name\" o \"track_name\" no este en escrito en inglés. "
   ]
  },
  {
   "cell_type": "code",
   "execution_count": 19,
   "metadata": {},
   "outputs": [],
   "source": [
    "def delete_row_non_ingles(dataset, index_name):\n",
    "    for row in dataset[1:]:\n",
    "        contador = 0 \n",
    "        name = row[index_name]\n",
    "        for char in name:\n",
    "            if int(ord(char))>127:\n",
    "                contador += 1\n",
    "        \n",
    "        if contador >= 3:\n",
    "            index_delete = dataset.index(row)\n",
    "            del dataset[index_name]\n",
    "            contador = 0\n",
    "       \n",
    "    return dataset"
   ]
  },
  {
   "cell_type": "code",
   "execution_count": 20,
   "metadata": {},
   "outputs": [
    {
     "name": "stdout",
     "output_type": "stream",
     "text": [
      "['REG - Check the regnumber, find information about Swedish vehicles', 'AUTO_AND_VEHICLES', '3.9', '3971', '3.6M', '100,000+', 'Free', '0', 'Everyone', 'Auto & Vehicles', 'July 30, 2018', '2.493', '4.4 and up']\n",
      "\n",
      "\n",
      "['CityBus Lviv', 'AUTO_AND_VEHICLES', '4.6', '534', '5.7M', '10,000+', 'Free', '0', 'Everyone', 'Auto & Vehicles', 'July 8, 2018', '1.9.1', '4.0.3 and up']\n",
      "\n",
      "\n",
      "['CDL Practice Test 2018 Edition', 'AUTO_AND_VEHICLES', '4.9', '7774', '17M', '100,000+', 'Free', '0', 'Everyone', 'Auto & Vehicles', 'July 3, 2018', '1.7', '4.2 and up']\n",
      "\n",
      "\n",
      "['ezETC (ETC balance inquiry, meter trial, real-time traffic)', 'AUTO_AND_VEHICLES', '4.3', '38846', '8.6M', '1,000,000+', 'Free', '0', 'Everyone', 'Auto & Vehicles', 'July 28, 2018', '2.20 Build 02', '4.1 and up']\n",
      "\n",
      "\n",
      "Columnas: ['Restart Navigator', 'AUTO_AND_VEHICLES', '4.0', '1403', '201k', '100,000+', 'Free', '0', 'Everyone', 'Auto & Vehicles', 'August 26, 2014', '1.0.1', '2.2 and up']\n",
      "\n",
      "\n",
      "Numero de columnas: 13\n",
      "Numero de filas: 9087\n"
     ]
    }
   ],
   "source": [
    "google_clean_ingles = delete_row_non_ingles(google_clean, 0)\n",
    "explore_data(google_clean_ingles, 5)"
   ]
  },
  {
   "cell_type": "code",
   "execution_count": 21,
   "metadata": {},
   "outputs": [
    {
     "name": "stdout",
     "output_type": "stream",
     "text": [
      "['521922264', 'PIP Camera-Selfie Cam&Pic Collage&Photo Editor', '74172416', 'USD', '0.0', '8454', '26', '4.5', '5.0', '3.2.2', '4+', 'Photo & Video', '40', '5', '2', '1']\n",
      "\n",
      "\n",
      "['883237617', 'My Emma :)', '136275968', 'USD', '0.0', '8412', '149', '4.5', '4.5', '2.7.0', '4+', 'Games', '38', '5', '1', '1']\n",
      "\n",
      "\n",
      "['1072950932', 'Spin It Rich! Casino Slots: Free Slot Machines', '150571008', 'USD', '0.0', '8402', '1277', '4.5', '4.5', '1.0.7541', '12+', 'Games', '38', '5', '7', '1']\n",
      "\n",
      "\n",
      "['1009200976', 'Futurama: Game of Drones', '385683456', 'USD', '0.0', '8394', '414', '4.5', '4.5', '1.12.0', '12+', 'Games', '37', '5', '45', '1']\n",
      "\n",
      "\n",
      "Columnas: ['284882215', 'Facebook', '389879808', 'USD', '0.0', '2974676', '212', '3.5', '3.5', '95.0', '4+', 'Social Networking', '37', '1', '29', '1']\n",
      "\n",
      "\n",
      "Numero de columnas: 16\n",
      "Numero de filas: 3199\n"
     ]
    }
   ],
   "source": [
    "apple_clean_ingles = delete_row_non_ingles(apple_clean, 1)\n",
    "explore_data(apple_clean, 5)"
   ]
  },
  {
   "cell_type": "markdown",
   "metadata": {},
   "source": [
    "## Determinar los generemos mas comunes en ambos juntos. \n",
    "\n",
    "A continuación vamos a generar una tabla de frecuencia de cada conjuntos analizando el genero de la aplicación:\n",
    "    \n",
    "### Para goole tenemos dos columnas que contienen el mismo dato \n",
    "- Category\n",
    "- Genres\n",
    "\n",
    "\n",
    "### para google usaremos la columna \"prime_genre\"\n",
    "\n",
    "Usaremos \"prime_genres\"para determinar los generos mas frecuentes\n",
    "\n",
    "\n",
    "\n",
    "Como nuestro objetivo al final es poder crear apps que sean rentables en ambas stores, analizaremos cada conjuntos e identificaremos los generos mas comúnes y que coincidan en ambos conjuntos"
   ]
  },
  {
   "cell_type": "code",
   "execution_count": 22,
   "metadata": {},
   "outputs": [],
   "source": [
    "def creat_freq_table(dataset, col):\n",
    "    genres = {}\n",
    "    for row in dataset[1:]:\n",
    "        if row[col] not in genres:\n",
    "            genres[row[col]] = 1\n",
    "        else:\n",
    "            genres[row[col]] += 1\n",
    "            \n",
    "            \n",
    "    return genres"
   ]
  },
  {
   "cell_type": "code",
   "execution_count": 23,
   "metadata": {},
   "outputs": [],
   "source": [
    "freq_genre_google = creat_freq_table(google_clean_ingles, 9)\n",
    "freq_category_google = creat_freq_table(google_clean_ingles, 1)"
   ]
  },
  {
   "cell_type": "code",
   "execution_count": 24,
   "metadata": {},
   "outputs": [
    {
     "name": "stdout",
     "output_type": "stream",
     "text": [
      "{'Photo & Video': 118, 'Games': 1815, 'Health & Fitness': 61, 'Business': 15, 'Entertainment': 273, 'Sports': 54, 'Shopping': 84, 'News': 47, 'Travel': 45, 'Education': 115, 'Productivity': 34, 'Social Networking': 96, 'Finance': 68, 'Lifestyle': 83, 'Music': 42, 'Utilities': 88, 'Weather': 21, 'Food & Drink': 35, 'Reference': 11, 'Navigation': 17, 'Book': 61, 'Catalogs': 8, 'Medical': 8}\n"
     ]
    }
   ],
   "source": [
    "freq_genre_apple = creat_freq_table(apple_clean_ingles, -5)\n",
    "print(freq_genre_apple)"
   ]
  },
  {
   "cell_type": "markdown",
   "metadata": {},
   "source": [
    "## Convirtiendo las tablas de frecuencia en listas para poder ordener y visualizar rapidamente los datos mas frecuentes.\n",
    "\n",
    "Las tablas de frecuencia son muy utiles pero si analizamos grandes cantidades de datos con valores unicos, ordenar los valores mas frecuentes puede ser tedioso, poco practico y propenso a errores. \n",
    "\n",
    "A continuación convertiremos nuestras tablas de frecuencia en listas ordenadas de mayor a menor (frecuencia, genero)\n"
   ]
  },
  {
   "cell_type": "code",
   "execution_count": 25,
   "metadata": {},
   "outputs": [],
   "source": [
    "def ord_freq_table(freq_table):\n",
    "    list_freq = []\n",
    "    for key, value in freq_table.items():\n",
    "        tuple_freq = (value,key)\n",
    "        list_freq.append(tuple_freq)\n",
    "    return sorted(list_freq, reverse=True)"
   ]
  },
  {
   "cell_type": "code",
   "execution_count": 26,
   "metadata": {},
   "outputs": [
    {
     "name": "stdout",
     "output_type": "stream",
     "text": [
      "[(751, 'Tools'), (567, 'Entertainment'), (498, 'Education'), (437, 'Business'), (360, 'Productivity'), (358, 'Lifestyle'), (343, 'Medical'), (332, 'Finance'), (328, 'Sports'), (304, 'Health & Fitness')]\n",
      "\n",
      "\n",
      "[(1713, 'FAMILY'), (876, 'GAME'), (752, 'TOOLS'), (437, 'BUSINESS'), (360, 'PRODUCTIVITY'), (359, 'LIFESTYLE'), (343, 'MEDICAL'), (332, 'FINANCE'), (321, 'SPORTS'), (304, 'HEALTH_AND_FITNESS')]\n"
     ]
    }
   ],
   "source": [
    "freq_ord_google_genre = ord_freq_table(freq_genre_google)\n",
    "freq_ord_google_category = ord_freq_table(freq_category_google)\n",
    "print(freq_ord_google_genre[0:10])\n",
    "print(\"\\n\")\n",
    "print(freq_ord_google_category[0:10])"
   ]
  },
  {
   "cell_type": "code",
   "execution_count": 27,
   "metadata": {},
   "outputs": [
    {
     "name": "stdout",
     "output_type": "stream",
     "text": [
      "[(1815, 'Games'), (273, 'Entertainment'), (118, 'Photo & Video'), (115, 'Education'), (96, 'Social Networking'), (88, 'Utilities'), (84, 'Shopping'), (83, 'Lifestyle'), (68, 'Finance'), (61, 'Health & Fitness')]\n"
     ]
    }
   ],
   "source": [
    "freq_ord_apple = ord_freq_table(freq_genre_apple)\n",
    "print(freq_ord_apple[0:10])"
   ]
  },
  {
   "cell_type": "markdown",
   "metadata": {},
   "source": [
    "## Generos frecuentes en ambos conjuntos de datos:\n",
    "1. Games: first in apple and second in google\n",
    "\n",
    "El resto de los datos hay mucha disparidad en la oposición que ocupa en cada conjunto de datos\n",
    "\n",
    "### En el caso de la apple en la columna prime_genre\n",
    "\n",
    "Ordemamos los datos en función de las mas frecuentes:\n",
    "1. Games: 1815\n",
    "2. Entertainment: 273\n",
    "3. Photo & Video: 118\n",
    "\n",
    "\n",
    "Para la apple las apliacciones mas frecuentes son los juegos y con mucha diferencia en comparación con el resto de generos.\n",
    "\n",
    "De forma general las aplicaciones que buscan entretenimiento son las mas frecuentes en la AppStore. \n",
    "\n",
    "Mas adelante analizaremos si eso se traducen en reviews de usuarios para determinar las aplicaciones con mas usuarios activos y terminar de recomendar un perfil. \n",
    "\n",
    "### En el caso de google en la columna Category\n",
    "\n",
    "1. Family: 1713\n",
    "2. Game: 876\n",
    "\n",
    "Recopilando las categorias oficiales de la google play store: https://support.google.com/googleplay/android-developer/answer/9859673?hl=es-419#zippy=%2Capps%2Cjuegos\n",
    "\n",
    "Notamos que no existe como tal una categoria denominada \"Familia\" por lo que pasamos a inspeccionar las aplicaciones de este tipo de categorias. "
   ]
  },
  {
   "cell_type": "code",
   "execution_count": 28,
   "metadata": {},
   "outputs": [
    {
     "name": "stdout",
     "output_type": "stream",
     "text": [
      "[['Candy Bomb', 'FAMILY', '4.4', '42145', '20M', '10,000,000+', 'Free', '0', 'Everyone', 'Casual;Brain Games', 'July 4, 2018', '2.9.3181', '4.0.3 and up'], ['Jewels Crush- Match 3 Puzzle', 'FAMILY', '4.4', '14774', '19M', '1,000,000+', 'Free', '0', 'Everyone', 'Casual;Brain Games', 'July 23, 2018', '1.9.3901', '4.0.3 and up'], ['Coloring & Learn', 'FAMILY', '4.4', '12753', '51M', '5,000,000+', 'Free', '0', 'Everyone', 'Educational;Creativity', 'July 17, 2018', '1.49', '4.0.3 and up'], ['Mahjong', 'FAMILY', '4.5', '33983', '22M', '5,000,000+', 'Free', '0', 'Everyone', 'Puzzle;Brain Games', 'August 2, 2018', '1.24.3181', '4.0.3 and up'], ['Super ABC! Learning games for kids! Preschool apps', 'FAMILY', '4.6', '20267', '46M', '1,000,000+', 'Free', '0', 'Everyone', 'Educational;Education', 'July 16, 2018', '1.1.6.7', '4.1 and up']]\n"
     ]
    }
   ],
   "source": [
    "def find_columns_category(dataset, category):\n",
    "    apps_category = []\n",
    "    for row in dataset:\n",
    "        if row[1] == category:\n",
    "            apps_category.append(row)\n",
    "    return apps_category    \n",
    "google_category_family = find_columns_category(google_clean_ingles, \"FAMILY\")\n",
    "print(google_category_family[:5])"
   ]
  },
  {
   "cell_type": "markdown",
   "metadata": {},
   "source": [
    "Como podemos ver la categoria \"FAMILY\" almacena una variedad muy amplia de apps que contienen diversos genereros. Para este caso vale la pena determinar cuales son los generos en la categoria \"FAMILY\" mas frecuentes. \n",
    "\n",
    "En cuanto a la categoria \"GAME\" los generemos van a depender del genero de los juegos. Vale la pena conocer cuales son los generos mas comunes dentro de la categoria de \"Games\"\n",
    "\n",
    "A continuación vamos a: \n",
    "1. Crear una tabala de frecuencia para las aplicaciones que tienen la categoria FAMILY y ordenar los datos para visualizar facilmente\n",
    "2. Crear una tabala de frecuencia para las aplicaciones que tienen la categoria GAMES y ordenar los datos para visualizar facilmente \n",
    "\n",
    "Esto proceso lo hicimos anteriormente cuando queriamos conocer las categorias mas frecuentes."
   ]
  },
  {
   "cell_type": "code",
   "execution_count": 29,
   "metadata": {},
   "outputs": [],
   "source": [
    "def freq_table_genero_in_category(dataset, category, index_col_category, index_col_genre):\n",
    "    genres_top_in_category = {}\n",
    "    for row in dataset[1:]:\n",
    "        if row[index_col_category] == category and row[index_col_genre] not in genres_top_in_category:\n",
    "            genres_top_in_category[row[index_col_genre]] = 1\n",
    "        elif row[index_col_category] == category and row[index_col_genre] in genres_top_in_category:\n",
    "            genres_top_in_category[row[index_col_genre]] +=1\n",
    "    return genres_top_in_category\n",
    "            \n",
    "            "
   ]
  },
  {
   "cell_type": "code",
   "execution_count": 30,
   "metadata": {},
   "outputs": [
    {
     "name": "stdout",
     "output_type": "stream",
     "text": [
      "[(463, 'Entertainment'), (388, 'Education'), (177, 'Simulation'), (134, 'Casual'), (78, 'Puzzle')]\n"
     ]
    }
   ],
   "source": [
    "genres_freq_in_category_family = freq_table_genero_in_category(google_clean_ingles, \"FAMILY\", 1, -4)\n",
    "genres_ord_in_category_family = ord_freq_table(genres_freq_in_category_family)\n",
    "print(genres_ord_in_category_family[:5])"
   ]
  },
  {
   "cell_type": "code",
   "execution_count": 31,
   "metadata": {},
   "outputs": [
    {
     "name": "stdout",
     "output_type": "stream",
     "text": [
      "[(278, 'Action'), (165, 'Arcade'), (88, 'Racing'), (61, 'Adventure'), (40, 'Card')]\n"
     ]
    }
   ],
   "source": [
    "genres_freq_in_category_games = freq_table_genero_in_category(google_clean_ingles, \"GAME\", 1, -4)\n",
    "genres_ord_in_category_games = ord_freq_table(genres_freq_in_category_games)\n",
    "print(genres_ord_in_category_games[:5])"
   ]
  },
  {
   "cell_type": "markdown",
   "metadata": {},
   "source": [
    "### Para el caso del conjunto de google:\n",
    "\n",
    "Los generos mas frecuentes en las categorias mas frecuentes son:\n",
    "1. Familily: 1713\n",
    "    1. Entertainmen: 463\n",
    "    2. Education: 388\n",
    "2. Game: 876\n",
    "    1. Action: 278\n",
    "    2. Arcade: 165\n",
    "\n",
    "De igual forma sabemos que a nivel general los generos mas comunes son:\n",
    "1. Tools: 751\n",
    "2. Entertainment: 567\n",
    "3. Education:498\n",
    "    \n",
    "### Para el caso del conjunto de apple:\n",
    "1. Games: 1815\n",
    "2. Entertainment: 273\n",
    "3. Photo & Video: 118\n",
    "\n",
    "Si consideramos que el objetivo es hacer aplicaciones donde se prueben primero en la google store y en caso de funcionar y atraer muchos usuarios, pasar a producción en la apple store, lo conveniente es que el genero sea frecuente en ambas stores. \n",
    "\n",
    "Hay que tener en cuenta que \"Game\" en google es una categoria, mientras que en appe es un genero. \n",
    "\n",
    "Como podemos ver en en analisis de google, hay muchos generos dentro de la categoria \"GAME\", sabemos que \"Action\" es el mas frecuente pero en apple no podemos ver esta división. \n",
    "\n",
    "Desde luego los games son apps de las mas frecuentes en ambas store, pero seria dificl identificar que tipo de juegos funcionan mejor en ambos conjuntos. \n",
    "\n",
    "En la google Store son muy frecuentes las apps de tipo \"Tools\", de caracter practico. \n",
    "\n",
    "\"Entertainment\" es un genero común en ambas store y es muy frecuente, podria ser un buen perfil. \n",
    "\n",
    "Antes de poder confirmar \"Entertainment\" es el perfil adecuado, hay que validar si este genero tienen muchas reviews o un buen rating según el caso.\n",
    "\n",
    "#### Para google store\n",
    "\n",
    "Identificaremos cual es el numero maximo de reviews que recibio cualquier app que pertenezca al genero de \"Entertainment\" y lo compararemos con el numero maximo de reviews de todos los generos.\n",
    "\n",
    "#### Para Apple Store\n",
    "\n",
    "Identificaremos cual es el numero maximo de rating que recibio cualquier app que pertenezca al genero de \"Entertainment\" y lo compararemos con el numero maximo de rating de todos los generos."
   ]
  },
  {
   "cell_type": "code",
   "execution_count": 45,
   "metadata": {},
   "outputs": [],
   "source": [
    "def compare_max_genre_entertainment_vs_any(dataset, index_col, index_genre):\n",
    "    any_genre_reviews = []\n",
    "    entertainment_genre_reviews = []\n",
    "    for row in dataset[1:]:\n",
    "        genre = row[index_genre]\n",
    "        if genre == \"Entertainment\":\n",
    "            entertainment_genre_reviews.append(int(row[index_col]))\n",
    "        else:\n",
    "            any_genre_reviews.append(int(row[index_col]))\n",
    "    \n",
    "    return \"valor maximo de reviews en cualquier genero: \" + str(max(any_genre_reviews)) + \" : \" + \"valor maximo del genero Entertainment: \" + str(max(entertainment_genre_reviews))"
   ]
  },
  {
   "cell_type": "code",
   "execution_count": 46,
   "metadata": {},
   "outputs": [
    {
     "name": "stdout",
     "output_type": "stream",
     "text": [
      "valor maximo de reviews en cualquier genero: 78158306 : valor maximo del genero Entertainment: 7168735\n"
     ]
    }
   ],
   "source": [
    "google_entertainment = compare_max_genre_entertainment_vs_any(google_clean_ingles, 3, -4)\n",
    "print(google_entertainment)"
   ]
  },
  {
   "cell_type": "code",
   "execution_count": 47,
   "metadata": {},
   "outputs": [
    {
     "name": "stdout",
     "output_type": "stream",
     "text": [
      "valor maximo de reviews en cualquier genero: 8454 : valor maximo del genero Entertainment: 8311\n"
     ]
    }
   ],
   "source": [
    "apple_entertainment = compare_max_genre_entertainment_vs_any(apple_clean_ingles, 5, -5)\n",
    "print(apple_entertainment)"
   ]
  },
  {
   "cell_type": "markdown",
   "metadata": {},
   "source": [
    "Para la apple store, podemos confirmar que el genero \"Entertainment\" tiene un rating muy bueno comparando con el valor maximo identificado en cualquier categoria. \n",
    "\n",
    "Para la google store, identificamos que hay mucha diferencia entre el valor maximo de todos los generos y el valor maximo del genero \"Entertainment\"\n",
    "\n",
    "En este caso vamos a comprobar si hay otros generos que se acercan al valor maximo encontrado en todos los generos. \n"
   ]
  },
  {
   "cell_type": "code",
   "execution_count": 62,
   "metadata": {},
   "outputs": [],
   "source": [
    "def sorted_reviews_in_genres_google(dataset):\n",
    "    reviews = []\n",
    "    for row in dataset[1:]:\n",
    "        reviews.append((int(row[3]), row[-4]))\n",
    "    return sorted(reviews, reverse = True)"
   ]
  },
  {
   "cell_type": "code",
   "execution_count": 65,
   "metadata": {},
   "outputs": [
    {
     "name": "stdout",
     "output_type": "stream",
     "text": [
      "[(78158306, 'Social'), (69119316, 'Communication'), (69119316, 'Communication'), (66577446, 'Social'), (56646578, 'Communication'), (44893888, 'Strategy'), (42916526, 'Tools'), (27725352, 'Arcade'), (27725352, 'Arcade'), (25655305, 'Video Players & Editors')]\n"
     ]
    }
   ],
   "source": [
    "sorted_reviews_google_genres = sorted_reviews_in_genres_google(google_clean_ingles)\n",
    "print(sorted_reviews_google_genres[:10])"
   ]
  },
  {
   "cell_type": "markdown",
   "metadata": {},
   "source": [
    "Podemos confirmar que el genero \"Entertainment\" no es el mas exitoso dentro de la google store. \n",
    "\n",
    "### Los generos con mas exito a nivel de reviews son:\n",
    "\n",
    "1. Social\n",
    "2. Comunication\n",
    "4. Strategy\n",
    "3. tools \n",
    "\n",
    "Si analisamos los generos \"Social\" and \"Strategy\" siguen siendo aplicaciones con fines divertidos y entretenidos. \n",
    "\n",
    "Como el objetivo es hacer una app que funcione muy bien en ambas store, recomendaria 2 perfiles. \n",
    "\n",
    "#### 1. Una aplicación de tipo social gamificada. Por ejemplo una red social con recompensas por retos y desafios donde potencie la interactividad entre los usuarios. \n",
    "\n",
    "##### 2. Una herramienta practica que involucre entretenimiento. Un ejemplo puede ser una app que genere filtros de fotos que se puedan usar para redes sociales o compartir en apps de tipo comunicación."
   ]
  },
  {
   "cell_type": "code",
   "execution_count": null,
   "metadata": {},
   "outputs": [],
   "source": []
  }
 ],
 "metadata": {
  "kernelspec": {
   "display_name": "Python 3",
   "language": "python",
   "name": "python3"
  },
  "language_info": {
   "codemirror_mode": {
    "name": "ipython",
    "version": 3
   },
   "file_extension": ".py",
   "mimetype": "text/x-python",
   "name": "python",
   "nbconvert_exporter": "python",
   "pygments_lexer": "ipython3",
   "version": "3.8.2"
  }
 },
 "nbformat": 4,
 "nbformat_minor": 2
}
